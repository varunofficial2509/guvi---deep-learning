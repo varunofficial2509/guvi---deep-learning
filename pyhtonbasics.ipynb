{
  "nbformat": 4,
  "nbformat_minor": 0,
  "metadata": {
    "colab": {
      "name": "pyhtonbasics.ipynb",
      "provenance": [],
      "collapsed_sections": [
        "a9cKjeFhEZiq",
        "q_lZFlyJDfK9",
        "wXNtvPNoE99N"
      ],
      "toc_visible": true,
      "authorship_tag": "ABX9TyPS81gELE/M/noKtjsg5DG+",
      "include_colab_link": true
    },
    "kernelspec": {
      "name": "python3",
      "display_name": "Python 3"
    }
  },
  "cells": [
    {
      "cell_type": "markdown",
      "metadata": {
        "id": "view-in-github",
        "colab_type": "text"
      },
      "source": [
        "<a href=\"https://colab.research.google.com/github/varunofficial2509/valiant-varun/blob/master/pyhtonbasics.ipynb\" target=\"_parent\"><img src=\"https://colab.research.google.com/assets/colab-badge.svg\" alt=\"Open In Colab\"/></a>"
      ]
    },
    {
      "cell_type": "markdown",
      "metadata": {
        "id": "a9cKjeFhEZiq",
        "colab_type": "text"
      },
      "source": [
        "#**Simple Datatypes**"
      ]
    },
    {
      "cell_type": "code",
      "metadata": {
        "id": "HLcO5eKsx3QK",
        "colab_type": "code",
        "outputId": "4d05a4d3-b359-40d6-8852-94cba9defb0e",
        "colab": {
          "base_uri": "https://localhost:8080/",
          "height": 34
        }
      },
      "source": [
        "name = 'real me 1'\n",
        "type(name)\n"
      ],
      "execution_count": 0,
      "outputs": [
        {
          "output_type": "execute_result",
          "data": {
            "text/plain": [
              "str"
            ]
          },
          "metadata": {
            "tags": []
          },
          "execution_count": 3
        }
      ]
    },
    {
      "cell_type": "code",
      "metadata": {
        "id": "xhlJY8IoyWA-",
        "colab_type": "code",
        "outputId": "561dd533-ae3b-42b9-80c7-e393fbf8eabe",
        "colab": {
          "base_uri": "https://localhost:8080/",
          "height": 34
        }
      },
      "source": [
        "print(name)"
      ],
      "execution_count": 0,
      "outputs": [
        {
          "output_type": "stream",
          "text": [
            "real me 1\n"
          ],
          "name": "stdout"
        }
      ]
    },
    {
      "cell_type": "code",
      "metadata": {
        "id": "h3RduDEOyuej",
        "colab_type": "code",
        "colab": {}
      },
      "source": [
        "screen_size = 2.5\n"
      ],
      "execution_count": 0,
      "outputs": []
    },
    {
      "cell_type": "code",
      "metadata": {
        "id": "crUYPtSjyzOg",
        "colab_type": "code",
        "outputId": "545ddb2f-9c76-4b28-86c0-b24d16029e85",
        "colab": {
          "base_uri": "https://localhost:8080/",
          "height": 34
        }
      },
      "source": [
        "type(screen_size)"
      ],
      "execution_count": 0,
      "outputs": [
        {
          "output_type": "execute_result",
          "data": {
            "text/plain": [
              "float"
            ]
          },
          "metadata": {
            "tags": []
          },
          "execution_count": 8
        }
      ]
    },
    {
      "cell_type": "code",
      "metadata": {
        "id": "DYNEIp3dy2pH",
        "colab_type": "code",
        "colab": {}
      },
      "source": [
        "print(name + 'screen size is' + screen_size)"
      ],
      "execution_count": 0,
      "outputs": []
    },
    {
      "cell_type": "code",
      "metadata": {
        "id": "5HuJPc4wzHAF",
        "colab_type": "code",
        "outputId": "86a0767a-9f44-4375-9bf4-eabf54a4eaf2",
        "colab": {
          "base_uri": "https://localhost:8080/",
          "height": 34
        }
      },
      "source": [
        "print('i bought a new ' + name) "
      ],
      "execution_count": 0,
      "outputs": [
        {
          "output_type": "stream",
          "text": [
            "i bought a new real me 1\n"
          ],
          "name": "stdout"
        }
      ]
    },
    {
      "cell_type": "code",
      "metadata": {
        "id": "Jl8MclSczmtl",
        "colab_type": "code",
        "outputId": "5d8cbefe-a96a-4ff6-d833-4c3f4ae0cbdd",
        "colab": {
          "base_uri": "https://localhost:8080/",
          "height": 162
        }
      },
      "source": [
        "print('i bought a new ' + name + 'its screen size is ' + screen_size)"
      ],
      "execution_count": 0,
      "outputs": [
        {
          "output_type": "error",
          "ename": "TypeError",
          "evalue": "ignored",
          "traceback": [
            "\u001b[0;31m---------------------------------------------------------------------------\u001b[0m",
            "\u001b[0;31mTypeError\u001b[0m                                 Traceback (most recent call last)",
            "\u001b[0;32m<ipython-input-12-e2922314ee83>\u001b[0m in \u001b[0;36m<module>\u001b[0;34m()\u001b[0m\n\u001b[0;32m----> 1\u001b[0;31m \u001b[0mprint\u001b[0m\u001b[0;34m(\u001b[0m\u001b[0;34m'i bought a new '\u001b[0m \u001b[0;34m+\u001b[0m \u001b[0mname\u001b[0m \u001b[0;34m+\u001b[0m \u001b[0;34m'its screen size is '\u001b[0m \u001b[0;34m+\u001b[0m \u001b[0mscreen_size\u001b[0m\u001b[0;34m)\u001b[0m\u001b[0;34m\u001b[0m\u001b[0;34m\u001b[0m\u001b[0m\n\u001b[0m",
            "\u001b[0;31mTypeError\u001b[0m: must be str, not float"
          ]
        }
      ]
    },
    {
      "cell_type": "code",
      "metadata": {
        "id": "ExYK0iTsz4qj",
        "colab_type": "code",
        "outputId": "38beb52a-1c6e-4fc5-e149-cf317441afb0",
        "colab": {
          "base_uri": "https://localhost:8080/",
          "height": 34
        }
      },
      "source": [
        "a = 2\n",
        "b = 3\n",
        "print(a*b , a+b , a-b , a/b , a//b , a**b)"
      ],
      "execution_count": 0,
      "outputs": [
        {
          "output_type": "stream",
          "text": [
            "6 5 -1 0.6666666666666666 0 8\n"
          ],
          "name": "stdout"
        }
      ]
    },
    {
      "cell_type": "code",
      "metadata": {
        "id": "eF89v8Pu0XTX",
        "colab_type": "code",
        "outputId": "8b8770c2-8125-42b3-ee5b-eb6123e584ce",
        "colab": {
          "base_uri": "https://localhost:8080/",
          "height": 34
        }
      },
      "source": [
        "is_android = False\n",
        "type(is_android)"
      ],
      "execution_count": 0,
      "outputs": [
        {
          "output_type": "execute_result",
          "data": {
            "text/plain": [
              "bool"
            ]
          },
          "metadata": {
            "tags": []
          },
          "execution_count": 14
        }
      ]
    },
    {
      "cell_type": "code",
      "metadata": {
        "id": "stO7jLJP0vnR",
        "colab_type": "code",
        "outputId": "e415c396-1669-4f2a-cb57-c6ce87587b05",
        "colab": {
          "base_uri": "https://localhost:8080/",
          "height": 34
        }
      },
      "source": [
        "print(is_android == True\n",
        "      )"
      ],
      "execution_count": 0,
      "outputs": [
        {
          "output_type": "stream",
          "text": [
            "False\n"
          ],
          "name": "stdout"
        }
      ]
    },
    {
      "cell_type": "code",
      "metadata": {
        "id": "q4N2YIMS05k9",
        "colab_type": "code",
        "outputId": "8026bc67-3395-4768-ccda-c2dc285fbb70",
        "colab": {
          "base_uri": "https://localhost:8080/",
          "height": 34
        }
      },
      "source": [
        "print(is_android == False and screen_size > 5)"
      ],
      "execution_count": 0,
      "outputs": [
        {
          "output_type": "stream",
          "text": [
            "False\n"
          ],
          "name": "stdout"
        }
      ]
    },
    {
      "cell_type": "code",
      "metadata": {
        "id": "554tbaK8EpeP",
        "colab_type": "code",
        "colab": {}
      },
      "source": [
        ""
      ],
      "execution_count": 0,
      "outputs": []
    },
    {
      "cell_type": "markdown",
      "metadata": {
        "id": "q_lZFlyJDfK9",
        "colab_type": "text"
      },
      "source": [
        "#**code blocks(if, for while)**\n"
      ]
    },
    {
      "cell_type": "code",
      "metadata": {
        "id": "jNue8WMZ1Q_x",
        "colab_type": "code",
        "outputId": "2ce2b273-2781-45ff-a8ed-bbed2ded818d",
        "colab": {
          "base_uri": "https://localhost:8080/",
          "height": 34
        }
      },
      "source": [
        "if is_android == True:\n",
        "   print(name + 'supports android')\n",
        "   print('cointinue printing inside')\n",
        "print('print outside')   "
      ],
      "execution_count": 0,
      "outputs": [
        {
          "output_type": "stream",
          "text": [
            "print outside\n"
          ],
          "name": "stdout"
        }
      ]
    },
    {
      "cell_type": "code",
      "metadata": {
        "id": "TIvjrV0n2GLW",
        "colab_type": "code",
        "outputId": "4d524ece-b6a0-4fcc-faea-72e6ec0497b5",
        "colab": {
          "base_uri": "https://localhost:8080/",
          "height": 67
        }
      },
      "source": [
        "if is_android == False:\n",
        "  print(name + 'supports android')\n",
        "  print('continue printing inside')\n",
        "print('print outside')  "
      ],
      "execution_count": 0,
      "outputs": [
        {
          "output_type": "stream",
          "text": [
            "real me 1supports android\n",
            "continue printing inside\n",
            "print outside\n"
          ],
          "name": "stdout"
        }
      ]
    },
    {
      "cell_type": "code",
      "metadata": {
        "id": "CWj0iSfO203u",
        "colab_type": "code",
        "outputId": "6c6786ce-ed2e-4c44-ae3b-74ba6554b146",
        "colab": {
          "base_uri": "https://localhost:8080/",
          "height": 185
        }
      },
      "source": [
        "for i in range(10):\n",
        "  print(i,i**2)"
      ],
      "execution_count": 0,
      "outputs": [
        {
          "output_type": "stream",
          "text": [
            "0 0\n",
            "1 1\n",
            "2 4\n",
            "3 9\n",
            "4 16\n",
            "5 25\n",
            "6 36\n",
            "7 49\n",
            "8 64\n",
            "9 81\n"
          ],
          "name": "stdout"
        }
      ]
    },
    {
      "cell_type": "code",
      "metadata": {
        "id": "_G486D1Y3jH3",
        "colab_type": "code",
        "colab": {}
      },
      "source": [
        "range?\n"
      ],
      "execution_count": 0,
      "outputs": []
    },
    {
      "cell_type": "code",
      "metadata": {
        "id": "0f2ZmkgW4hTk",
        "colab_type": "code",
        "outputId": "beb5b079-b6da-4424-a31e-4cbda3ed91b7",
        "colab": {
          "base_uri": "https://localhost:8080/",
          "height": 185
        }
      },
      "source": [
        "i = 0\n",
        "while i < 10:\n",
        "  print(i , i**2)\n",
        "  i += 1\n"
      ],
      "execution_count": 0,
      "outputs": [
        {
          "output_type": "stream",
          "text": [
            "0 0\n",
            "1 1\n",
            "2 4\n",
            "3 9\n",
            "4 16\n",
            "5 25\n",
            "6 36\n",
            "7 49\n",
            "8 64\n",
            "9 81\n"
          ],
          "name": "stdout"
        }
      ]
    },
    {
      "cell_type": "code",
      "metadata": {
        "id": "yKISWPq84_t7",
        "colab_type": "code",
        "colab": {}
      },
      "source": [
        "def print_sqaures(stop_val):\n",
        "  for i in range(stop_val):\n",
        "   print(i,i**2)"
      ],
      "execution_count": 0,
      "outputs": []
    },
    {
      "cell_type": "code",
      "metadata": {
        "id": "GgrTOvnq5mbp",
        "colab_type": "code",
        "outputId": "9e4076bf-8222-42b4-ed35-98f692e7fd56",
        "colab": {
          "base_uri": "https://localhost:8080/",
          "height": 185
        }
      },
      "source": [
        "print_sqaures(10)"
      ],
      "execution_count": 0,
      "outputs": [
        {
          "output_type": "stream",
          "text": [
            "0 0\n",
            "1 1\n",
            "2 4\n",
            "3 9\n",
            "4 16\n",
            "5 25\n",
            "6 36\n",
            "7 49\n",
            "8 64\n",
            "9 81\n"
          ],
          "name": "stdout"
        }
      ]
    },
    {
      "cell_type": "code",
      "metadata": {
        "id": "Nj3yijCQ5zRf",
        "colab_type": "code",
        "colab": {}
      },
      "source": [
        "def sum_of_squares(stop_val):\n",
        "  sum_ = 0\n",
        "  for i in range(stop_val):\n",
        "   sum_ += i**2\n",
        "  return sum_"
      ],
      "execution_count": 0,
      "outputs": []
    },
    {
      "cell_type": "code",
      "metadata": {
        "id": "A_X9sRPF6oH0",
        "colab_type": "code",
        "outputId": "00c75b38-71f0-4d5c-a614-a9a3160a8283",
        "colab": {
          "base_uri": "https://localhost:8080/",
          "height": 34
        }
      },
      "source": [
        "sum_of_squares(5)"
      ],
      "execution_count": 0,
      "outputs": [
        {
          "output_type": "execute_result",
          "data": {
            "text/plain": [
              "30"
            ]
          },
          "metadata": {
            "tags": []
          },
          "execution_count": 50
        }
      ]
    },
    {
      "cell_type": "code",
      "metadata": {
        "id": "UCHb0GNi6sXi",
        "colab_type": "code",
        "outputId": "e615a574-0b0e-48c7-fc61-b2d0f0041cbf",
        "colab": {
          "base_uri": "https://localhost:8080/",
          "height": 34
        }
      },
      "source": [
        "sum_of_squares(3)"
      ],
      "execution_count": 0,
      "outputs": [
        {
          "output_type": "execute_result",
          "data": {
            "text/plain": [
              "5"
            ]
          },
          "metadata": {
            "tags": []
          },
          "execution_count": 51
        }
      ]
    },
    {
      "cell_type": "code",
      "metadata": {
        "id": "zFSFFOMW7VVU",
        "colab_type": "code",
        "colab": {}
      },
      "source": [
        "def print_sqaures_with_starting_value(stop_val, start_val = 0):\n",
        "  \"\"\"this prints the squares of no.s starting from start_val to ending value i.e stop_val\"\"\"\n",
        "  for i in range(start_val , stop_val):\n",
        "   print(i,i**2)"
      ],
      "execution_count": 0,
      "outputs": []
    },
    {
      "cell_type": "code",
      "metadata": {
        "id": "3deNSxyg-ex2",
        "colab_type": "code",
        "outputId": "f3118f75-248a-4b34-963d-85548e6b3a96",
        "colab": {
          "base_uri": "https://localhost:8080/",
          "height": 67
        }
      },
      "source": [
        "print_sqaures_with_starting_value(5,2)"
      ],
      "execution_count": 0,
      "outputs": [
        {
          "output_type": "stream",
          "text": [
            "2 4\n",
            "3 9\n",
            "4 16\n"
          ],
          "name": "stdout"
        }
      ]
    },
    {
      "cell_type": "code",
      "metadata": {
        "id": "cZ9aWzia-jps",
        "colab_type": "code",
        "outputId": "8f4b9bdd-3c8f-4d38-ba16-34f1cf1147c5",
        "colab": {
          "base_uri": "https://localhost:8080/",
          "height": 151
        }
      },
      "source": [
        "print_sqaures_with_starting_value(10,2)"
      ],
      "execution_count": 0,
      "outputs": [
        {
          "output_type": "stream",
          "text": [
            "2 4\n",
            "3 9\n",
            "4 16\n",
            "5 25\n",
            "6 36\n",
            "7 49\n",
            "8 64\n",
            "9 81\n"
          ],
          "name": "stdout"
        }
      ]
    },
    {
      "cell_type": "code",
      "metadata": {
        "id": "DUuF_HNl-voy",
        "colab_type": "code",
        "outputId": "761b701b-62fa-4427-ee64-dd15c9cfe189",
        "colab": {
          "base_uri": "https://localhost:8080/",
          "height": 185
        }
      },
      "source": [
        "print_sqaures_with_starting_value(10)"
      ],
      "execution_count": 0,
      "outputs": [
        {
          "output_type": "stream",
          "text": [
            "0 0\n",
            "1 1\n",
            "2 4\n",
            "3 9\n",
            "4 16\n",
            "5 25\n",
            "6 36\n",
            "7 49\n",
            "8 64\n",
            "9 81\n"
          ],
          "name": "stdout"
        }
      ]
    },
    {
      "cell_type": "code",
      "metadata": {
        "id": "vm9s0FMd_Rql",
        "colab_type": "code",
        "colab": {}
      },
      "source": [
        "print_sqaures_with_starting_value?\n"
      ],
      "execution_count": 0,
      "outputs": []
    },
    {
      "cell_type": "code",
      "metadata": {
        "id": "qsIW7w2OBPBc",
        "colab_type": "code",
        "colab": {}
      },
      "source": [
        ""
      ],
      "execution_count": 0,
      "outputs": []
    },
    {
      "cell_type": "markdown",
      "metadata": {
        "id": "wXNtvPNoE99N",
        "colab_type": "text"
      },
      "source": [
        "# **LISTS**"
      ]
    },
    {
      "cell_type": "code",
      "metadata": {
        "id": "4x_rx139FPvp",
        "colab_type": "code",
        "colab": {}
      },
      "source": [
        "my_phone = [name, is_android, screen_size]"
      ],
      "execution_count": 0,
      "outputs": []
    },
    {
      "cell_type": "code",
      "metadata": {
        "id": "KCHtUrYdGhVM",
        "colab_type": "code",
        "outputId": "4a69fe7c-e7af-483b-fdc8-b9583f35347e",
        "colab": {
          "base_uri": "https://localhost:8080/",
          "height": 34
        }
      },
      "source": [
        "type(my_phone)"
      ],
      "execution_count": 0,
      "outputs": [
        {
          "output_type": "execute_result",
          "data": {
            "text/plain": [
              "list"
            ]
          },
          "metadata": {
            "tags": []
          },
          "execution_count": 70
        }
      ]
    },
    {
      "cell_type": "code",
      "metadata": {
        "id": "qG8VFarsGyNy",
        "colab_type": "code",
        "outputId": "245f50f1-14da-4664-9669-a48ade1cf45a",
        "colab": {
          "base_uri": "https://localhost:8080/",
          "height": 34
        }
      },
      "source": [
        "print(my_phone)"
      ],
      "execution_count": 0,
      "outputs": [
        {
          "output_type": "stream",
          "text": [
            "['real me 1', False, 2.5]\n"
          ],
          "name": "stdout"
        }
      ]
    },
    {
      "cell_type": "code",
      "metadata": {
        "id": "gp8Oxjh0G2LO",
        "colab_type": "code",
        "outputId": "7540fad3-add7-43b4-d9f9-80a7146af0cd",
        "colab": {
          "base_uri": "https://localhost:8080/",
          "height": 34
        }
      },
      "source": [
        "print(my_phone[0])"
      ],
      "execution_count": 0,
      "outputs": [
        {
          "output_type": "stream",
          "text": [
            "real me 1\n"
          ],
          "name": "stdout"
        }
      ]
    },
    {
      "cell_type": "code",
      "metadata": {
        "id": "0yVAct_KG7bm",
        "colab_type": "code",
        "outputId": "1f2c94a2-39bc-4ba6-e81a-c29cb229c382",
        "colab": {
          "base_uri": "https://localhost:8080/",
          "height": 34
        }
      },
      "source": [
        "type(my_phone[0])"
      ],
      "execution_count": 0,
      "outputs": [
        {
          "output_type": "execute_result",
          "data": {
            "text/plain": [
              "str"
            ]
          },
          "metadata": {
            "tags": []
          },
          "execution_count": 73
        }
      ]
    },
    {
      "cell_type": "code",
      "metadata": {
        "id": "Wci2uTjaHBaj",
        "colab_type": "code",
        "outputId": "d94b8a4c-b978-4f31-c093-aeb1af526889",
        "colab": {
          "base_uri": "https://localhost:8080/",
          "height": 34
        }
      },
      "source": [
        "type(my_phone[0:2])"
      ],
      "execution_count": 0,
      "outputs": [
        {
          "output_type": "execute_result",
          "data": {
            "text/plain": [
              "list"
            ]
          },
          "metadata": {
            "tags": []
          },
          "execution_count": 74
        }
      ]
    },
    {
      "cell_type": "code",
      "metadata": {
        "id": "ml8Wn4hIHQ8c",
        "colab_type": "code",
        "outputId": "ecd4f4d4-f504-4106-874d-a48115158321",
        "colab": {
          "base_uri": "https://localhost:8080/",
          "height": 34
        }
      },
      "source": [
        "print(my_phone[0:2])"
      ],
      "execution_count": 0,
      "outputs": [
        {
          "output_type": "stream",
          "text": [
            "['real me 1', False]\n"
          ],
          "name": "stdout"
        }
      ]
    },
    {
      "cell_type": "code",
      "metadata": {
        "id": "tv-c7T4QHXX-",
        "colab_type": "code",
        "outputId": "59083437-9e98-4dd2-d594-a48de57c9c9e",
        "colab": {
          "base_uri": "https://localhost:8080/",
          "height": 34
        }
      },
      "source": [
        "my_sisters_phone =  my_phone\n",
        "print(my_sisters_phone)"
      ],
      "execution_count": 0,
      "outputs": [
        {
          "output_type": "stream",
          "text": [
            "['real me 1', False, 2.5]\n"
          ],
          "name": "stdout"
        }
      ]
    },
    {
      "cell_type": "code",
      "metadata": {
        "id": "pmZ70Jc3H1CZ",
        "colab_type": "code",
        "colab": {}
      },
      "source": [
        "my_phone[2] = 5.5"
      ],
      "execution_count": 0,
      "outputs": []
    },
    {
      "cell_type": "code",
      "metadata": {
        "id": "wlyoLC1RH6Sw",
        "colab_type": "code",
        "outputId": "6ea8b6e4-552d-4ce1-8e62-4699fa62ac25",
        "colab": {
          "base_uri": "https://localhost:8080/",
          "height": 34
        }
      },
      "source": [
        "print(my_phone)"
      ],
      "execution_count": 0,
      "outputs": [
        {
          "output_type": "stream",
          "text": [
            "['real me 1', False, 5.5]\n"
          ],
          "name": "stdout"
        }
      ]
    },
    {
      "cell_type": "code",
      "metadata": {
        "id": "wYVIHiZ4IBoE",
        "colab_type": "code",
        "colab": {}
      },
      "source": [
        "my_sisters_phone = list(my_phone)\n"
      ],
      "execution_count": 0,
      "outputs": []
    },
    {
      "cell_type": "code",
      "metadata": {
        "id": "NeYYDkW1I6Xk",
        "colab_type": "code",
        "colab": {}
      },
      "source": [
        "my_phone[2] = 5"
      ],
      "execution_count": 0,
      "outputs": []
    },
    {
      "cell_type": "code",
      "metadata": {
        "id": "z5R3kNddI_qK",
        "colab_type": "code",
        "outputId": "c7e97df1-645a-49c5-cdd1-0d005e661bd1",
        "colab": {
          "base_uri": "https://localhost:8080/",
          "height": 50
        }
      },
      "source": [
        "print(my_phone)\n",
        "print(my_sisters_phone)"
      ],
      "execution_count": 0,
      "outputs": [
        {
          "output_type": "stream",
          "text": [
            "['real me 1', False, 5]\n",
            "['real me 1', False, 5.5]\n"
          ],
          "name": "stdout"
        }
      ]
    },
    {
      "cell_type": "code",
      "metadata": {
        "id": "9CVwuDN6JGuP",
        "colab_type": "code",
        "outputId": "a165ca5e-0a3e-41f0-e069-26c9ba9a59c8",
        "colab": {
          "base_uri": "https://localhost:8080/",
          "height": 34
        }
      },
      "source": [
        "len(my_phone)"
      ],
      "execution_count": 0,
      "outputs": [
        {
          "output_type": "execute_result",
          "data": {
            "text/plain": [
              "3"
            ]
          },
          "metadata": {
            "tags": []
          },
          "execution_count": 83
        }
      ]
    },
    {
      "cell_type": "code",
      "metadata": {
        "id": "bypvM-l3JlTH",
        "colab_type": "code",
        "outputId": "5a4ef10f-df4c-4ad1-8fc2-1d7b29d35d3e",
        "colab": {
          "base_uri": "https://localhost:8080/",
          "height": 162
        }
      },
      "source": [
        "my_phone,append('4G')"
      ],
      "execution_count": 0,
      "outputs": [
        {
          "output_type": "error",
          "ename": "NameError",
          "evalue": "ignored",
          "traceback": [
            "\u001b[0;31m---------------------------------------------------------------------------\u001b[0m",
            "\u001b[0;31mNameError\u001b[0m                                 Traceback (most recent call last)",
            "\u001b[0;32m<ipython-input-84-7cd32d4f6527>\u001b[0m in \u001b[0;36m<module>\u001b[0;34m()\u001b[0m\n\u001b[0;32m----> 1\u001b[0;31m \u001b[0mmy_phone\u001b[0m\u001b[0;34m,\u001b[0m\u001b[0mappend\u001b[0m\u001b[0;34m(\u001b[0m\u001b[0;34m'4G'\u001b[0m\u001b[0;34m)\u001b[0m\u001b[0;34m\u001b[0m\u001b[0;34m\u001b[0m\u001b[0m\n\u001b[0m",
            "\u001b[0;31mNameError\u001b[0m: name 'append' is not defined"
          ]
        }
      ]
    },
    {
      "cell_type": "code",
      "metadata": {
        "id": "gJjizDO_JtyK",
        "colab_type": "code",
        "colab": {}
      },
      "source": [
        "my_phone.append('4G')"
      ],
      "execution_count": 0,
      "outputs": []
    },
    {
      "cell_type": "code",
      "metadata": {
        "id": "k20eSeq2J0jU",
        "colab_type": "code",
        "outputId": "6b75c6e2-0791-417c-895c-446fc6804731",
        "colab": {
          "base_uri": "https://localhost:8080/",
          "height": 34
        }
      },
      "source": [
        "print(my_phone)"
      ],
      "execution_count": 0,
      "outputs": [
        {
          "output_type": "stream",
          "text": [
            "['real me 1', False, 5, '4G']\n"
          ],
          "name": "stdout"
        }
      ]
    },
    {
      "cell_type": "code",
      "metadata": {
        "id": "0xxcK3cxJ3Tq",
        "colab_type": "code",
        "outputId": "65694177-cc3f-416f-91e7-85c0b10172a4",
        "colab": {
          "base_uri": "https://localhost:8080/",
          "height": 34
        }
      },
      "source": [
        "len(my_phone)"
      ],
      "execution_count": 0,
      "outputs": [
        {
          "output_type": "execute_result",
          "data": {
            "text/plain": [
              "4"
            ]
          },
          "metadata": {
            "tags": []
          },
          "execution_count": 87
        }
      ]
    },
    {
      "cell_type": "code",
      "metadata": {
        "id": "pCy0y2akJ7mb",
        "colab_type": "code",
        "colab": {}
      },
      "source": [
        "realme1_features = [10000 , 'dual sim' , '4gb ram']"
      ],
      "execution_count": 0,
      "outputs": []
    },
    {
      "cell_type": "code",
      "metadata": {
        "id": "SK0e6OdmKoqI",
        "colab_type": "code",
        "colab": {}
      },
      "source": [
        "my_phone = my_phone + realme1_features"
      ],
      "execution_count": 0,
      "outputs": []
    },
    {
      "cell_type": "code",
      "metadata": {
        "id": "dgzbcnzxKx11",
        "colab_type": "code",
        "outputId": "1a2136b7-bbb5-49cf-c24d-e3c0bc1f0f4a",
        "colab": {
          "base_uri": "https://localhost:8080/",
          "height": 34
        }
      },
      "source": [
        "print(my_phone)"
      ],
      "execution_count": 0,
      "outputs": [
        {
          "output_type": "stream",
          "text": [
            "['real me 1', False, 5, '4G', 10000, 'dual sim', '4gb ram']\n"
          ],
          "name": "stdout"
        }
      ]
    },
    {
      "cell_type": "code",
      "metadata": {
        "id": "Q_4dm8xeK0Ng",
        "colab_type": "code",
        "outputId": "46482c7d-0465-4ca0-b9bf-5cf4679151a2",
        "colab": {
          "base_uri": "https://localhost:8080/",
          "height": 134
        }
      },
      "source": [
        "for data in my_phone :\n",
        "  print(data)"
      ],
      "execution_count": 0,
      "outputs": [
        {
          "output_type": "stream",
          "text": [
            "real me 1\n",
            "False\n",
            "5\n",
            "4G\n",
            "10000\n",
            "dual sim\n",
            "4gb ram\n"
          ],
          "name": "stdout"
        }
      ]
    },
    {
      "cell_type": "code",
      "metadata": {
        "id": "qePUSD8RLR8m",
        "colab_type": "code",
        "outputId": "e380acef-1255-4297-aefb-023565a9f774",
        "colab": {
          "base_uri": "https://localhost:8080/",
          "height": 34
        }
      },
      "source": [
        "range(5\n",
        "      )"
      ],
      "execution_count": 0,
      "outputs": [
        {
          "output_type": "execute_result",
          "data": {
            "text/plain": [
              "range(0, 5)"
            ]
          },
          "metadata": {
            "tags": []
          },
          "execution_count": 93
        }
      ]
    },
    {
      "cell_type": "code",
      "metadata": {
        "id": "krvbFXNCLY2U",
        "colab_type": "code",
        "outputId": "1e01d090-9cf8-4101-fdce-4f9c1bc7aaa1",
        "colab": {
          "base_uri": "https://localhost:8080/",
          "height": 34
        }
      },
      "source": [
        "print(list(range(10)))"
      ],
      "execution_count": 0,
      "outputs": [
        {
          "output_type": "stream",
          "text": [
            "[0, 1, 2, 3, 4, 5, 6, 7, 8, 9]\n"
          ],
          "name": "stdout"
        }
      ]
    },
    {
      "cell_type": "code",
      "metadata": {
        "id": "EWDIaBz7LejB",
        "colab_type": "code",
        "outputId": "5214d3f1-e787-4213-e15e-14b2c327394e",
        "colab": {
          "base_uri": "https://localhost:8080/",
          "height": 34
        }
      },
      "source": [
        "a = list(range(10))\n",
        "print(10)"
      ],
      "execution_count": 0,
      "outputs": [
        {
          "output_type": "stream",
          "text": [
            "10\n"
          ],
          "name": "stdout"
        }
      ]
    },
    {
      "cell_type": "code",
      "metadata": {
        "id": "s3Eu_P3JLnXM",
        "colab_type": "code",
        "colab": {}
      },
      "source": [
        "b = list(map(lambda x:x**2,a))"
      ],
      "execution_count": 0,
      "outputs": []
    },
    {
      "cell_type": "code",
      "metadata": {
        "id": "FE2WOQDsL165",
        "colab_type": "code",
        "outputId": "e34fa5b9-86e9-4ab0-b593-822c985ff869",
        "colab": {
          "base_uri": "https://localhost:8080/",
          "height": 128
        }
      },
      "source": [
        "print b\n"
      ],
      "execution_count": 0,
      "outputs": [
        {
          "output_type": "error",
          "ename": "SyntaxError",
          "evalue": "ignored",
          "traceback": [
            "\u001b[0;36m  File \u001b[0;32m\"<ipython-input-98-73f3da3732cb>\"\u001b[0;36m, line \u001b[0;32m1\u001b[0m\n\u001b[0;31m    print b\u001b[0m\n\u001b[0m          ^\u001b[0m\n\u001b[0;31mSyntaxError\u001b[0m\u001b[0;31m:\u001b[0m Missing parentheses in call to 'print'. Did you mean print(b)?\n"
          ]
        }
      ]
    },
    {
      "cell_type": "code",
      "metadata": {
        "id": "f4k5al01L4SE",
        "colab_type": "code",
        "outputId": "b4a1e6bd-b80e-4da0-a6a5-75d47877dd47",
        "colab": {
          "base_uri": "https://localhost:8080/",
          "height": 34
        }
      },
      "source": [
        "print(b)"
      ],
      "execution_count": 0,
      "outputs": [
        {
          "output_type": "stream",
          "text": [
            "[0, 1, 4, 9, 16, 25, 36, 49, 64, 81]\n"
          ],
          "name": "stdout"
        }
      ]
    },
    {
      "cell_type": "code",
      "metadata": {
        "id": "7IJ0imqjL6T0",
        "colab_type": "code",
        "outputId": "9290e06e-ad7a-49c2-e256-417eb1d779e4",
        "colab": {
          "base_uri": "https://localhost:8080/",
          "height": 34
        }
      },
      "source": [
        "c  = list(filter(lambda x : x % 2 == 0,b))\n",
        "print(c)"
      ],
      "execution_count": 0,
      "outputs": [
        {
          "output_type": "stream",
          "text": [
            "[0, 4, 16, 36, 64]\n"
          ],
          "name": "stdout"
        }
      ]
    },
    {
      "cell_type": "code",
      "metadata": {
        "id": "nTGWA-YaMt5h",
        "colab_type": "code",
        "colab": {}
      },
      "source": [
        ""
      ],
      "execution_count": 0,
      "outputs": []
    },
    {
      "cell_type": "markdown",
      "metadata": {
        "id": "pp70n7hIlgN1",
        "colab_type": "text"
      },
      "source": [
        ""
      ]
    },
    {
      "cell_type": "code",
      "metadata": {
        "id": "AXwRAHIKlkLY",
        "colab_type": "code",
        "colab": {}
      },
      "source": [
        ""
      ],
      "execution_count": 0,
      "outputs": []
    },
    {
      "cell_type": "markdown",
      "metadata": {
        "id": "YFXC3TWglmOo",
        "colab_type": "text"
      },
      "source": [
        "#Tuples, Sets and Dictionaries\n"
      ]
    },
    {
      "cell_type": "code",
      "metadata": {
        "id": "_v_HWQaymVM8",
        "colab_type": "code",
        "colab": {}
      },
      "source": [
        ""
      ],
      "execution_count": 0,
      "outputs": []
    },
    {
      "cell_type": "code",
      "metadata": {
        "id": "FxPKtXdvl9Ok",
        "colab_type": "code",
        "outputId": "758cad8e-8622-4bd4-914c-2198189a8d43",
        "colab": {
          "base_uri": "https://localhost:8080/",
          "height": 50
        }
      },
      "source": [
        "my_phone_tupple = ('RealMe1' , False , 5) #use normal brackets\n",
        "print(my_phone_tupple)\n",
        "type( my_phone_tupple )"
      ],
      "execution_count": 0,
      "outputs": [
        {
          "output_type": "stream",
          "text": [
            "('RealMe1', False, 5)\n"
          ],
          "name": "stdout"
        },
        {
          "output_type": "execute_result",
          "data": {
            "text/plain": [
              "tuple"
            ]
          },
          "metadata": {
            "tags": []
          },
          "execution_count": 1
        }
      ]
    },
    {
      "cell_type": "code",
      "metadata": {
        "id": "cXau4laDmjUg",
        "colab_type": "code",
        "outputId": "b11f7431-9db5-45c5-ac57-9fa144de87a2",
        "colab": {
          "base_uri": "https://localhost:8080/",
          "height": 34
        }
      },
      "source": [
        "my_phone_tupple [0:2]"
      ],
      "execution_count": 0,
      "outputs": [
        {
          "output_type": "execute_result",
          "data": {
            "text/plain": [
              "('RealMe1', False)"
            ]
          },
          "metadata": {
            "tags": []
          },
          "execution_count": 2
        }
      ]
    },
    {
      "cell_type": "code",
      "metadata": {
        "id": "1XwaEXvCnO1F",
        "colab_type": "code",
        "outputId": "76677ff3-dd2b-4618-9695-74d8b1f03419",
        "colab": {
          "base_uri": "https://localhost:8080/",
          "height": 67
        }
      },
      "source": [
        "for data in my_phone_tupple:\n",
        "  print(data)"
      ],
      "execution_count": 0,
      "outputs": [
        {
          "output_type": "stream",
          "text": [
            "RealMe1\n",
            "False\n",
            "5\n"
          ],
          "name": "stdout"
        }
      ]
    },
    {
      "cell_type": "code",
      "metadata": {
        "id": "-aPYD_YVoOHt",
        "colab_type": "code",
        "colab": {}
      },
      "source": [
        "my_phone_tupple[2] : 5.2"
      ],
      "execution_count": 0,
      "outputs": []
    },
    {
      "cell_type": "code",
      "metadata": {
        "id": "KsEv9wWQpOX8",
        "colab_type": "code",
        "outputId": "276deaca-c48b-4c62-feb2-e171e4007cbc",
        "colab": {
          "base_uri": "https://localhost:8080/",
          "height": 34
        }
      },
      "source": [
        "print(my_phone_tupple)"
      ],
      "execution_count": 0,
      "outputs": [
        {
          "output_type": "stream",
          "text": [
            "('RealMe1', False, 5)\n"
          ],
          "name": "stdout"
        }
      ]
    },
    {
      "cell_type": "code",
      "metadata": {
        "id": "4W3eahmJpeQt",
        "colab_type": "code",
        "colab": {}
      },
      "source": [
        "#THE MAIN DIFFERENCE BTW TUPLE AND LIST IS.. IN TUPLE ITEMS CAN'T BE REASSIGNED. AND CAN'T BE CHANGED AFTER CREATING"
      ],
      "execution_count": 0,
      "outputs": []
    },
    {
      "cell_type": "code",
      "metadata": {
        "id": "klNqKvt6p7Tk",
        "colab_type": "code",
        "colab": {}
      },
      "source": [
        "#The second diff is the execution time of tuple is slightly less then list"
      ],
      "execution_count": 0,
      "outputs": []
    },
    {
      "cell_type": "code",
      "metadata": {
        "id": "JByIcMMqqEsx",
        "colab_type": "code",
        "colab": {}
      },
      "source": [
        "#forexample : "
      ],
      "execution_count": 0,
      "outputs": []
    },
    {
      "cell_type": "code",
      "metadata": {
        "id": "zOp_L2DGqIRz",
        "colab_type": "code",
        "colab": {}
      },
      "source": [
        "import time #importing some pakages"
      ],
      "execution_count": 0,
      "outputs": []
    },
    {
      "cell_type": "code",
      "metadata": {
        "id": "vhVci4dLqQVn",
        "colab_type": "code",
        "outputId": "62b1d932-9a2e-4aa9-9989-929b00ba79a6",
        "colab": {
          "base_uri": "https://localhost:8080/",
          "height": 34
        }
      },
      "source": [
        "tic = time.time()\n",
        "print(tic)"
      ],
      "execution_count": 0,
      "outputs": [
        {
          "output_type": "stream",
          "text": [
            "1585239923.8412\n"
          ],
          "name": "stdout"
        }
      ]
    },
    {
      "cell_type": "code",
      "metadata": {
        "id": "6TK9_Fp8qZcF",
        "colab_type": "code",
        "colab": {}
      },
      "source": [
        "time.time?\n"
      ],
      "execution_count": 0,
      "outputs": []
    },
    {
      "cell_type": "code",
      "metadata": {
        "id": "zZgYlFkCqd8u",
        "colab_type": "code",
        "outputId": "88a3e23e-c149-4fff-f2d5-821d72253ef1",
        "colab": {
          "base_uri": "https://localhost:8080/",
          "height": 34
        }
      },
      "source": [
        "tic = time.time()\n",
        "#do something that makes some time to measure\n",
        "toc = time.time()\n",
        "print(' elapsed time ' , toc - tic)"
      ],
      "execution_count": 0,
      "outputs": [
        {
          "output_type": "stream",
          "text": [
            " elapsed time  3.337860107421875e-05\n"
          ],
          "name": "stdout"
        }
      ]
    },
    {
      "cell_type": "code",
      "metadata": {
        "id": "UmD962vQqyuz",
        "colab_type": "code",
        "colab": {}
      },
      "source": [
        "#creating a tuple and a list and comparing the execution time"
      ],
      "execution_count": 0,
      "outputs": []
    },
    {
      "cell_type": "code",
      "metadata": {
        "id": "TyC7AWOXrL25",
        "colab_type": "code",
        "outputId": "7fb1f0f1-d5c1-4809-b4a4-9eca824a3f4a",
        "colab": {
          "base_uri": "https://localhost:8080/",
          "height": 34
        }
      },
      "source": [
        "my_list = list (range(1000000))\n",
        "tic = time.time()\n",
        "my_list_sqaured = map(lambda i:i**2, my_list)\n",
        "toc = time.time()\n",
        "print('elapsed time in sec' , toc - tic)"
      ],
      "execution_count": 0,
      "outputs": [
        {
          "output_type": "stream",
          "text": [
            "elapsed time in sec 0.00011444091796875\n"
          ],
          "name": "stdout"
        }
      ]
    },
    {
      "cell_type": "code",
      "metadata": {
        "id": "VbALjs3nrmoA",
        "colab_type": "code",
        "outputId": "c1d195d8-c7ad-484d-e644-0816ec6ff9ed",
        "colab": {
          "base_uri": "https://localhost:8080/",
          "height": 34
        }
      },
      "source": [
        "my_tuple = tuple (range(1000000))\n",
        "tic = time.time()\n",
        "my_tuple_sqaured = map(lambda i:i**2, my_tuple)\n",
        "toc = time.time()\n",
        "print('elapsed time in sec' , toc - tic)"
      ],
      "execution_count": 0,
      "outputs": [
        {
          "output_type": "stream",
          "text": [
            "elapsed time in sec 0.00017261505126953125\n"
          ],
          "name": "stdout"
        }
      ]
    },
    {
      "cell_type": "markdown",
      "metadata": {
        "id": "iee_w2nBsrfb",
        "colab_type": "text"
      },
      "source": [
        "dictionaries"
      ]
    },
    {
      "cell_type": "code",
      "metadata": {
        "id": "2hcHdi0Vr1js",
        "colab_type": "code",
        "colab": {}
      },
      "source": [
        "my_phone_dict = {}"
      ],
      "execution_count": 0,
      "outputs": []
    },
    {
      "cell_type": "code",
      "metadata": {
        "id": "jeaPuheStSHB",
        "colab_type": "code",
        "outputId": "37f78fcf-7580-4fca-bc9b-5c2096f3168d",
        "colab": {
          "base_uri": "https://localhost:8080/",
          "height": 34
        }
      },
      "source": [
        "type(my_phone_dict)"
      ],
      "execution_count": 0,
      "outputs": [
        {
          "output_type": "execute_result",
          "data": {
            "text/plain": [
              "dict"
            ]
          },
          "metadata": {
            "tags": []
          },
          "execution_count": 3
        }
      ]
    },
    {
      "cell_type": "code",
      "metadata": {
        "id": "cXr3UnNptWhC",
        "colab_type": "code",
        "colab": {}
      },
      "source": [
        "my_phone_dict['name'] = 'Realme1'"
      ],
      "execution_count": 0,
      "outputs": []
    },
    {
      "cell_type": "code",
      "metadata": {
        "id": "_pPh7IuTtr_-",
        "colab_type": "code",
        "colab": {}
      },
      "source": [
        "my_phone_dict['isandroid'] = 'False'\n",
        "my_phone_dict['s.size'] =  5.2"
      ],
      "execution_count": 0,
      "outputs": []
    },
    {
      "cell_type": "code",
      "metadata": {
        "id": "cpZmK85Gt7zW",
        "colab_type": "code",
        "outputId": "a1b0a3a8-5e06-4d4f-9860-17e4f3eed996",
        "colab": {
          "base_uri": "https://localhost:8080/",
          "height": 34
        }
      },
      "source": [
        "print(my_phone_dict)"
      ],
      "execution_count": 0,
      "outputs": [
        {
          "output_type": "stream",
          "text": [
            "{'name': 'Realme1', 'isandroid': 'False', 's.size': 5.2}\n"
          ],
          "name": "stdout"
        }
      ]
    },
    {
      "cell_type": "code",
      "metadata": {
        "id": "MKXejB7qt_eG",
        "colab_type": "code",
        "outputId": "348d95a8-4c28-47f0-9208-724a0e3a27f7",
        "colab": {
          "base_uri": "https://localhost:8080/",
          "height": 34
        }
      },
      "source": [
        "my_phone_dict['name']"
      ],
      "execution_count": 0,
      "outputs": [
        {
          "output_type": "execute_result",
          "data": {
            "text/plain": [
              "'Realme1'"
            ]
          },
          "metadata": {
            "tags": []
          },
          "execution_count": 7
        }
      ]
    },
    {
      "cell_type": "code",
      "metadata": {
        "id": "iVm3hQNluMpW",
        "colab_type": "code",
        "outputId": "56691859-f285-458f-f2ad-7dd8701cb071",
        "colab": {
          "base_uri": "https://localhost:8080/",
          "height": 34
        }
      },
      "source": [
        "#for printing keys in taken dictionary\n",
        "print(my_phone_dict.keys())"
      ],
      "execution_count": 0,
      "outputs": [
        {
          "output_type": "stream",
          "text": [
            "dict_keys(['name', 'isandroid', 's.size'])\n"
          ],
          "name": "stdout"
        }
      ]
    },
    {
      "cell_type": "code",
      "metadata": {
        "id": "zAN2dmvoudJa",
        "colab_type": "code",
        "outputId": "69e5d1e6-732f-4bb9-b72d-910b734920e8",
        "colab": {
          "base_uri": "https://localhost:8080/",
          "height": 34
        }
      },
      "source": [
        "#for values\n",
        "print(my_phone_dict.values())"
      ],
      "execution_count": 0,
      "outputs": [
        {
          "output_type": "stream",
          "text": [
            "dict_values(['Realme1', 'False', 5.2])\n"
          ],
          "name": "stdout"
        }
      ]
    },
    {
      "cell_type": "code",
      "metadata": {
        "id": "LCOaNwCgutzV",
        "colab_type": "code",
        "outputId": "d70220b9-b857-487a-e05c-b04aedb0d0f5",
        "colab": {
          "base_uri": "https://localhost:8080/",
          "height": 34
        }
      },
      "source": [
        "#for items\n",
        "print(my_phone_dict.items())"
      ],
      "execution_count": 0,
      "outputs": [
        {
          "output_type": "stream",
          "text": [
            "dict_items([('name', 'Realme1'), ('isandroid', 'False'), ('s.size', 5.2)])\n"
          ],
          "name": "stdout"
        }
      ]
    },
    {
      "cell_type": "code",
      "metadata": {
        "id": "j7juaBA7u011",
        "colab_type": "code",
        "outputId": "c5acb17d-38cc-4744-fde3-f4fe3652a83d",
        "colab": {
          "base_uri": "https://localhost:8080/",
          "height": 67
        }
      },
      "source": [
        "for key in my_phone_dict.keys():\n",
        "  print (key)"
      ],
      "execution_count": 0,
      "outputs": [
        {
          "output_type": "stream",
          "text": [
            "name\n",
            "isandroid\n",
            "s.size\n"
          ],
          "name": "stdout"
        }
      ]
    },
    {
      "cell_type": "code",
      "metadata": {
        "id": "1GbD7FmjvLuj",
        "colab_type": "code",
        "outputId": "75790ca8-d553-4920-d17f-45cb5f631f58",
        "colab": {
          "base_uri": "https://localhost:8080/",
          "height": 67
        }
      },
      "source": [
        "for key in my_phone_dict.keys():\n",
        "  print (key,':', my_phone_dict[key])"
      ],
      "execution_count": 0,
      "outputs": [
        {
          "output_type": "stream",
          "text": [
            "name : Realme1\n",
            "isandroid : False\n",
            "s.size : 5.2\n"
          ],
          "name": "stdout"
        }
      ]
    },
    {
      "cell_type": "markdown",
      "metadata": {
        "id": "-NiLCzpkwbMS",
        "colab_type": "text"
      },
      "source": [
        "pakages"
      ]
    },
    {
      "cell_type": "code",
      "metadata": {
        "id": "cC8dmUYOvbrQ",
        "colab_type": "code",
        "colab": {}
      },
      "source": [
        "import math"
      ],
      "execution_count": 0,
      "outputs": []
    },
    {
      "cell_type": "code",
      "metadata": {
        "id": "PNSoPBGrvGmc",
        "colab_type": "code",
        "outputId": "5a8c39e1-db79-4403-a43e-1ce5602b48fe",
        "colab": {
          "base_uri": "https://localhost:8080/",
          "height": 34
        }
      },
      "source": [
        "a = math.sqrt(100)\n",
        "print(a)\n"
      ],
      "execution_count": 0,
      "outputs": [
        {
          "output_type": "stream",
          "text": [
            "10.0\n"
          ],
          "name": "stdout"
        }
      ]
    },
    {
      "cell_type": "code",
      "metadata": {
        "id": "jWi_xYfPwwF5",
        "colab_type": "code",
        "colab": {}
      },
      "source": [
        " "
      ],
      "execution_count": 0,
      "outputs": []
    }
  ]
}